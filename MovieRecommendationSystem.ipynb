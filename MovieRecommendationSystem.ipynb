{
 "cells": [
  {
   "cell_type": "markdown",
   "id": "8ad133ea-261a-416b-a98c-1c489a5a13ad",
   "metadata": {},
   "source": [
    "# Movie Recommendation System"
   ]
  },
  {
   "cell_type": "markdown",
   "id": "f7dc38c2-f7d4-4f6c-b4c3-325f4230e9be",
   "metadata": {},
   "source": [
    "## Load the dataset"
   ]
  },
  {
   "cell_type": "code",
   "execution_count": 3,
   "id": "1fda1d50-9cc7-4077-96bf-4fde0580834d",
   "metadata": {},
   "outputs": [
    {
     "name": "stdout",
     "output_type": "stream",
     "text": [
      "Ratings DataFrame:\n",
      "   userId  movieId  rating  timestamp\n",
      "0       1        1     4.0  964982703\n",
      "1       1        3     4.0  964981247\n",
      "2       1        6     4.0  964982224\n",
      "3       1       47     5.0  964983815\n",
      "4       1       50     5.0  964982931\n",
      "\n",
      "Movies DataFrame:\n",
      "   movieId                               title  \\\n",
      "0        1                    Toy Story (1995)   \n",
      "1        2                      Jumanji (1995)   \n",
      "2        3             Grumpier Old Men (1995)   \n",
      "3        4            Waiting to Exhale (1995)   \n",
      "4        5  Father of the Bride Part II (1995)   \n",
      "\n",
      "                                        genres  \n",
      "0  Adventure|Animation|Children|Comedy|Fantasy  \n",
      "1                   Adventure|Children|Fantasy  \n",
      "2                               Comedy|Romance  \n",
      "3                         Comedy|Drama|Romance  \n",
      "4                                       Comedy  \n",
      "\n",
      "Links DataFrame:\n",
      "   movieId  imdbId   tmdbId\n",
      "0        1  114709    862.0\n",
      "1        2  113497   8844.0\n",
      "2        3  113228  15602.0\n",
      "3        4  114885  31357.0\n",
      "4        5  113041  11862.0\n"
     ]
    }
   ],
   "source": [
    "import pandas as pd\n",
    "\n",
    "# Load the datasets\n",
    "ratings_df = pd.read_csv('ratings.csv')\n",
    "movies_df = pd.read_csv('movies.csv')\n",
    "links_df = pd.read_csv('links.csv')\n",
    "tags_df = pd.read_csv('tags.csv')\n",
    "\n",
    "print(\"Ratings DataFrame:\")\n",
    "print(ratings_df.head())\n",
    "print(\"\\nMovies DataFrame:\")\n",
    "print(movies_df.head())\n",
    "print(\"\\nLinks DataFrame:\")\n",
    "print(links_df.head())"
   ]
  },
  {
   "cell_type": "markdown",
   "id": "38dc3988-ece1-4676-9de4-a7aa0476c344",
   "metadata": {},
   "source": [
    "### Exploring unique users and movies"
   ]
  },
  {
   "cell_type": "code",
   "execution_count": 5,
   "id": "cf589efb-1faf-44d7-bc7f-0c4d872547b4",
   "metadata": {},
   "outputs": [
    {
     "name": "stdout",
     "output_type": "stream",
     "text": [
      "Unique users: 610\n",
      "Unique movies: 9724\n"
     ]
    }
   ],
   "source": [
    "print(f\"Unique users: {ratings_df['userId'].nunique()}\")\n",
    "print(f\"Unique movies: {ratings_df['movieId'].nunique()}\")"
   ]
  },
  {
   "cell_type": "code",
   "execution_count": 6,
   "id": "24b76709-383d-41f1-be01-9a9ba5080630",
   "metadata": {},
   "outputs": [
    {
     "name": "stdout",
     "output_type": "stream",
     "text": [
      "\n",
      "📂 Ratings DataFrame\n",
      "----------------------------------------\n",
      "Shape: (100836, 4)\n",
      "Columns: ['userId', 'movieId', 'rating', 'timestamp']\n",
      "\n",
      "Sample rows:\n",
      "    userId  movieId  rating  timestamp\n",
      "0       1        1     4.0  964982703\n",
      "1       1        3     4.0  964981247\n",
      "2       1        6     4.0  964982224\n",
      "3       1       47     5.0  964983815\n",
      "4       1       50     5.0  964982931 \n",
      "\n",
      "Null values:\n",
      " userId       0\n",
      "movieId      0\n",
      "rating       0\n",
      "timestamp    0\n",
      "dtype: int64 \n",
      "\n",
      "============================================================\n",
      "\n",
      "📂 Movies DataFrame\n",
      "----------------------------------------\n",
      "Shape: (9742, 3)\n",
      "Columns: ['movieId', 'title', 'genres']\n",
      "\n",
      "Sample rows:\n",
      "    movieId                               title  \\\n",
      "0        1                    Toy Story (1995)   \n",
      "1        2                      Jumanji (1995)   \n",
      "2        3             Grumpier Old Men (1995)   \n",
      "3        4            Waiting to Exhale (1995)   \n",
      "4        5  Father of the Bride Part II (1995)   \n",
      "\n",
      "                                        genres  \n",
      "0  Adventure|Animation|Children|Comedy|Fantasy  \n",
      "1                   Adventure|Children|Fantasy  \n",
      "2                               Comedy|Romance  \n",
      "3                         Comedy|Drama|Romance  \n",
      "4                                       Comedy   \n",
      "\n",
      "Null values:\n",
      " movieId    0\n",
      "title      0\n",
      "genres     0\n",
      "dtype: int64 \n",
      "\n",
      "============================================================\n",
      "\n",
      "📂 Tags DataFrame\n",
      "----------------------------------------\n",
      "Shape: (3683, 4)\n",
      "Columns: ['userId', 'movieId', 'tag', 'timestamp']\n",
      "\n",
      "Sample rows:\n",
      "    userId  movieId              tag   timestamp\n",
      "0       2    60756            funny  1445714994\n",
      "1       2    60756  Highly quotable  1445714996\n",
      "2       2    60756     will ferrell  1445714992\n",
      "3       2    89774     Boxing story  1445715207\n",
      "4       2    89774              MMA  1445715200 \n",
      "\n",
      "Null values:\n",
      " userId       0\n",
      "movieId      0\n",
      "tag          0\n",
      "timestamp    0\n",
      "dtype: int64 \n",
      "\n",
      "============================================================\n",
      "\n",
      "📂 Links DataFrame\n",
      "----------------------------------------\n",
      "Shape: (9742, 3)\n",
      "Columns: ['movieId', 'imdbId', 'tmdbId']\n",
      "\n",
      "Sample rows:\n",
      "    movieId  imdbId   tmdbId\n",
      "0        1  114709    862.0\n",
      "1        2  113497   8844.0\n",
      "2        3  113228  15602.0\n",
      "3        4  114885  31357.0\n",
      "4        5  113041  11862.0 \n",
      "\n",
      "Null values:\n",
      " movieId    0\n",
      "imdbId     0\n",
      "tmdbId     8\n",
      "dtype: int64 \n",
      "\n",
      "============================================================\n"
     ]
    }
   ],
   "source": [
    "\n",
    "# Function to print description\n",
    "def describe_dataframe(df, name):\n",
    "    print(f\"\\n📂 {name} DataFrame\")\n",
    "    print(\"-\" * 40)\n",
    "    print(\"Shape:\", df.shape)\n",
    "    print(\"Columns:\", df.columns.tolist())\n",
    "    print(\"\\nSample rows:\\n\", df.head(), \"\\n\")\n",
    "    print(\"Null values:\\n\", df.isnull().sum(), \"\\n\")\n",
    "    print(\"=\"*60)\n",
    "\n",
    "# Explore each dataset\n",
    "describe_dataframe(ratings_df, \"Ratings\")\n",
    "describe_dataframe(movies_df, \"Movies\")\n",
    "describe_dataframe(tags_df, \"Tags\")\n",
    "describe_dataframe(links_df, \"Links\")\n"
   ]
  },
  {
   "cell_type": "code",
   "execution_count": 7,
   "id": "057c35e3-916d-40d0-9e44-369817c15cae",
   "metadata": {},
   "outputs": [],
   "source": [
    "# Merge movies with tags\n",
    "tags_df = tags_df.fillna(\"\")\n",
    "merged_df = pd.merge(movies_df, tags_df, on=\"movieId\", how=\"left\")\n",
    "\n",
    "# Combine genres and tags into one \"content\" column\n",
    "merged_df[\"content\"] = merged_df[\"genres\"] + \" \" + merged_df[\"tag\"].fillna(\"\")\n"
   ]
  },
  {
   "cell_type": "markdown",
   "id": "a36cb48e-451d-4ca5-a786-63d2c6dedc19",
   "metadata": {},
   "source": [
    "## Text Vectorization (TF-IDF)"
   ]
  },
  {
   "cell_type": "code",
   "execution_count": 9,
   "id": "0ce3e381-b1dc-474e-9dcf-a2c8267d3374",
   "metadata": {},
   "outputs": [
    {
     "name": "stdout",
     "output_type": "stream",
     "text": [
      "Content matrix shape: (11853, 1677)\n"
     ]
    }
   ],
   "source": [
    "from sklearn.feature_extraction.text import TfidfVectorizer\n",
    "\n",
    "# Replace NaN with empty strings\n",
    "merged_df[\"content\"] = merged_df[\"content\"].fillna(\"\")\n",
    "\n",
    "tfidf = TfidfVectorizer(stop_words=\"english\")\n",
    "content_matrix = tfidf.fit_transform(merged_df[\"content\"])\n",
    "\n",
    "print(\"Content matrix shape:\", content_matrix.shape)\n"
   ]
  },
  {
   "cell_type": "markdown",
   "id": "73d05a09-4e6b-4b5e-b4b9-c7da55a00c68",
   "metadata": {},
   "source": [
    "### Compute similarity "
   ]
  },
  {
   "cell_type": "code",
   "execution_count": 11,
   "id": "56a23b18-efe0-438f-8dc6-d86447ae8efb",
   "metadata": {},
   "outputs": [],
   "source": [
    "from sklearn.metrics.pairwise import cosine_similarity\n",
    "\n",
    "cosine_sim = cosine_similarity(content_matrix, content_matrix)\n"
   ]
  },
  {
   "cell_type": "code",
   "execution_count": 12,
   "id": "dd7d024c-4896-495b-8a33-fb46b8b9e375",
   "metadata": {},
   "outputs": [
    {
     "name": "stdout",
     "output_type": "stream",
     "text": [
      "                                   title                         genres  tag\n",
      "1611       Amityville Horror, The (1979)  Drama|Horror|Mystery|Thriller  NaN\n",
      "4446                 Santa Sangre (1989)  Drama|Horror|Mystery|Thriller  NaN\n",
      "4486                  Others, The (2001)  Drama|Horror|Mystery|Thriller  NaN\n",
      "4510              Wicker Man, The (1973)  Drama|Horror|Mystery|Thriller  NaN\n",
      "5598  Tenant, The (Locataire, Le) (1976)  Drama|Horror|Mystery|Thriller  NaN\n"
     ]
    }
   ],
   "source": [
    "# Reset index for lookup\n",
    "merged_df = merged_df.reset_index()\n",
    "\n",
    "def recommend_movies(title, n=5):\n",
    "    # Find index of movie\n",
    "    idx = merged_df[merged_df['title'].str.contains(title, case=False, na=False)].index[0]\n",
    "    \n",
    "    # Get similarity scores\n",
    "    sim_scores = list(enumerate(cosine_sim[idx]))\n",
    "    \n",
    "    # Sort movies by similarity\n",
    "    sim_scores = sorted(sim_scores, key=lambda x: x[1], reverse=True)\n",
    "    \n",
    "    # Pick top n similar movies (excluding the input movie itself)\n",
    "    sim_scores = sim_scores[1:n+1]\n",
    "    movie_indices = [i[0] for i in sim_scores]\n",
    "    \n",
    "    return merged_df[['title', 'genres', 'tag']].iloc[movie_indices]\n",
    "\n",
    "# Example\n",
    "print(recommend_movies(\"horror\", 5))\n"
   ]
  },
  {
   "cell_type": "code",
   "execution_count": 13,
   "id": "be55e685-dfad-45f2-9cb6-9ce683b8bde9",
   "metadata": {},
   "outputs": [
    {
     "name": "stdout",
     "output_type": "stream",
     "text": [
      "                                             title  \\\n",
      "11642                  Wow! A Talking Fish! (1983)   \n",
      "11618          Last Year's Snow Was Falling (1983)   \n",
      "10634     Stuart Little 3: Call of the Wild (2005)   \n",
      "9709                                 Presto (2008)   \n",
      "11626  Vovka in the Kingdom of Far Far Away (1965)   \n",
      "\n",
      "                                     genres  avg_rating  \n",
      "11642     Animation|Children|Comedy|Fantasy         5.0  \n",
      "11618     Animation|Children|Comedy|Fantasy         5.0  \n",
      "10634     Animation|Children|Comedy|Fantasy         5.0  \n",
      "9709      Animation|Children|Comedy|Fantasy         5.0  \n",
      "11626  Adventure|Animation|Children|Fantasy         5.0  \n"
     ]
    }
   ],
   "source": [
    "# Compute average rating per movie\n",
    "rating_summary = ratings_df.groupby(\"movieId\")[\"rating\"].mean().reset_index()\n",
    "rating_summary.columns = [\"movieId\", \"avg_rating\"]\n",
    "\n",
    "# Merge with movies\n",
    "merged_df = merged_df.merge(rating_summary, on=\"movieId\", how=\"left\")\n",
    "\n",
    "# When sorting recommendations, boost by rating\n",
    "def recommend_movies_with_ratings(title, n=5):\n",
    "    idx = merged_df[merged_df['title'].str.contains(title, case=False, na=False)].index[0]\n",
    "    sim_scores = list(enumerate(cosine_sim[idx]))\n",
    "    sim_scores = sorted(sim_scores, key=lambda x: x[1], reverse=True)[1:50]  # take top 50 similar\n",
    "    movie_indices = [i[0] for i in sim_scores]\n",
    "    \n",
    "    # Sort again by avg_rating for better results\n",
    "    candidates = merged_df.iloc[movie_indices][[\"title\", \"genres\", \"avg_rating\"]]\n",
    "    return candidates.sort_values(by=\"avg_rating\", ascending=False).head(n)\n",
    "\n",
    "print(recommend_movies_with_ratings(\"Toy Story\", 5))\n",
    "\n"
   ]
  },
  {
   "cell_type": "code",
   "execution_count": 14,
   "id": "b9556548-8b1c-468d-a3d0-bb19a528466c",
   "metadata": {},
   "outputs": [
    {
     "name": "stdout",
     "output_type": "stream",
     "text": [
      "Index(['index', 'movieId', 'title', 'genres', 'userId', 'tag', 'timestamp',\n",
      "       'content', 'avg_rating'],\n",
      "      dtype='object')\n"
     ]
    }
   ],
   "source": [
    "print(merged_df.columns)\n"
   ]
  },
  {
   "cell_type": "code",
   "execution_count": 15,
   "id": "475d2bfd-11c9-4c13-b382-516a3ffafafb",
   "metadata": {},
   "outputs": [
    {
     "name": "stdout",
     "output_type": "stream",
     "text": [
      "   movieId                               title  \\\n",
      "0        1                    Toy Story (1995)   \n",
      "1        2                      Jumanji (1995)   \n",
      "2        3             Grumpier Old Men (1995)   \n",
      "3        4            Waiting to Exhale (1995)   \n",
      "4        5  Father of the Bride Part II (1995)   \n",
      "\n",
      "                                        genres  imdbId   tmdbId  \n",
      "0  Adventure|Animation|Children|Comedy|Fantasy  114709    862.0  \n",
      "1                   Adventure|Children|Fantasy  113497   8844.0  \n",
      "2                               Comedy|Romance  113228  15602.0  \n",
      "3                         Comedy|Drama|Romance  114885  31357.0  \n",
      "4                                       Comedy  113041  11862.0  \n"
     ]
    }
   ],
   "source": [
    "links_df = pd.read_csv(\"links.csv\")\n",
    "\n",
    "# Merge movies with links (make sure movieId is the key)\n",
    "merged_df = pd.merge(movies_df, links_df, on=\"movieId\", how=\"left\")\n",
    "\n",
    "print(merged_df.head())"
   ]
  },
  {
   "cell_type": "code",
   "execution_count": 16,
   "id": "4e893ce5-9590-4650-94a5-31140cf3adf5",
   "metadata": {},
   "outputs": [
    {
     "name": "stdout",
     "output_type": "stream",
     "text": [
      "8\n"
     ]
    }
   ],
   "source": [
    "# Check missing values\n",
    "print(merged_df[\"tmdbId\"].isnull().sum())\n"
   ]
  },
  {
   "cell_type": "code",
   "execution_count": 17,
   "id": "9d411514-ed9d-4a66-8349-0fad9d0b1af6",
   "metadata": {},
   "outputs": [],
   "source": [
    "merged_df = merged_df.dropna(subset=[\"tmdbId\"])\n"
   ]
  },
  {
   "cell_type": "code",
   "execution_count": 18,
   "id": "e1d2d9fb-d6d7-46fe-bc07-e379a3a7d96a",
   "metadata": {},
   "outputs": [],
   "source": [
    "merged_df[\"tmdbId\"] = merged_df[\"tmdbId\"].astype(int)\n"
   ]
  },
  {
   "cell_type": "code",
   "execution_count": 19,
   "id": "fc67e39d-7c15-43e3-af16-e3cb56297bad",
   "metadata": {},
   "outputs": [],
   "source": [
    "# Merge movies + tags\n",
    "tags_df = tags_df.fillna(\"\")\n",
    "merged_df = pd.merge(movies_df, tags_df, on=\"movieId\", how=\"left\")\n",
    "merged_df[\"content\"] = merged_df[\"genres\"] + \" \" + merged_df[\"tag\"].fillna(\"\")\n",
    "merged_df[\"content\"] = merged_df[\"content\"].fillna(\"\")\n",
    "\n",
    "# Merge links (do this BEFORE TF-IDF or any other operations)\n",
    "merged_df = pd.merge(merged_df, links_df, on=\"movieId\", how=\"left\")\n",
    "\n",
    "# Merge ratings\n",
    "rating_summary = ratings_df.groupby(\"movieId\")[\"rating\"].mean().reset_index()\n",
    "rating_summary.columns = [\"movieId\", \"avg_rating\"]\n",
    "merged_df = pd.merge(merged_df, rating_summary, on=\"movieId\", how=\"left\")\n"
   ]
  },
  {
   "cell_type": "code",
   "execution_count": 20,
   "id": "320b6df6-799c-42ab-a74e-ef659ae90695",
   "metadata": {},
   "outputs": [],
   "source": [
    "tfidf = TfidfVectorizer(stop_words=\"english\")\n",
    "content_matrix = tfidf.fit_transform(merged_df[\"content\"])\n",
    "cosine_sim = cosine_similarity(content_matrix, content_matrix)\n"
   ]
  },
  {
   "cell_type": "code",
   "execution_count": 21,
   "id": "614ad219-adfb-4949-8a3f-eb78cc7a3077",
   "metadata": {},
   "outputs": [
    {
     "name": "stdin",
     "output_type": "stream",
     "text": [
      "Search by movie title or genre:  Horror\n"
     ]
    },
    {
     "data": {
      "text/html": [
       "<table border=\"1\" class=\"dataframe\">\n",
       "  <thead>\n",
       "    <tr style=\"text-align: right;\">\n",
       "      <th></th>\n",
       "      <th>title</th>\n",
       "      <th>genres</th>\n",
       "      <th>avg_rating</th>\n",
       "      <th>overview</th>\n",
       "      <th>TMDB</th>\n",
       "      <th>MovieLens</th>\n",
       "      <th>IMDb</th>\n",
       "    </tr>\n",
       "  </thead>\n",
       "  <tbody>\n",
       "    <tr>\n",
       "      <th>7041</th>\n",
       "      <td>'Salem's Lot (2004)</td>\n",
       "      <td>Drama|Horror|Mystery|Thriller</td>\n",
       "      <td>5.00</td>\n",
       "      <td>No overview available</td>\n",
       "      <td><a href=\"https://www.themoviedb.org/movie/36763\" target=\"_blank\">TMDB</a></td>\n",
       "      <td><a href=\"https://movielens.org/movies/27751\" target=\"_blank\">MovieLens</a></td>\n",
       "      <td><a href=\"http://www.imdb.com/title/tt355987/\" target=\"_blank\">IMDb</a></td>\n",
       "    </tr>\n",
       "    <tr>\n",
       "      <th>9473</th>\n",
       "      <td>Kill List (2011)</td>\n",
       "      <td>Horror|Mystery|Thriller</td>\n",
       "      <td>4.50</td>\n",
       "      <td>Nearly a year after a botched job, a hitman takes a new assignment with the promise of a big payoff for three killings. What starts off as an easy task soon unravels, sending the killer into the heart of darkness.</td>\n",
       "      <td><a href=\"https://www.themoviedb.org/movie/74725\" target=\"_blank\">TMDB</a></td>\n",
       "      <td><a href=\"https://movielens.org/movies/89837\" target=\"_blank\">MovieLens</a></td>\n",
       "      <td><a href=\"http://www.imdb.com/title/tt1788391/\" target=\"_blank\">IMDb</a></td>\n",
       "    </tr>\n",
       "    <tr>\n",
       "      <th>9187</th>\n",
       "      <td>Saw VII 3D - The Final Chapter (2010)</td>\n",
       "      <td>Horror|Mystery|Thriller</td>\n",
       "      <td>4.50</td>\n",
       "      <td>As a deadly battle rages over Jigsaw's brutal legacy, a group of Jigsaw survivors gathers to seek the support of self-help guru and fellow survivor Bobby Dagen, a man whose own dark secrets unleash a new wave of terror.</td>\n",
       "      <td><a href=\"https://www.themoviedb.org/movie/41439\" target=\"_blank\">TMDB</a></td>\n",
       "      <td><a href=\"https://movielens.org/movies/81535\" target=\"_blank\">MovieLens</a></td>\n",
       "      <td><a href=\"http://www.imdb.com/title/tt1477076/\" target=\"_blank\">IMDb</a></td>\n",
       "    </tr>\n",
       "    <tr>\n",
       "      <th>5598</th>\n",
       "      <td>Tenant, The (Locataire, Le) (1976)</td>\n",
       "      <td>Drama|Horror|Mystery|Thriller</td>\n",
       "      <td>4.25</td>\n",
       "      <td>A quiet and inconspicuous man rents an apartment in Paris where he finds himself drawn into a rabbit hole of dangerous paranoia.</td>\n",
       "      <td><a href=\"https://www.themoviedb.org/movie/11482\" target=\"_blank\">TMDB</a></td>\n",
       "      <td><a href=\"https://movielens.org/movies/6530\" target=\"_blank\">MovieLens</a></td>\n",
       "      <td><a href=\"http://www.imdb.com/title/tt74811/\" target=\"_blank\">IMDb</a></td>\n",
       "    </tr>\n",
       "    <tr>\n",
       "      <th>8938</th>\n",
       "      <td>Triangle (2009)</td>\n",
       "      <td>Drama|Horror|Mystery|Thriller</td>\n",
       "      <td>4.00</td>\n",
       "      <td>When Jess sets sail on a yacht with a group of friends, she cannot shake the feeling that there is something wrong.</td>\n",
       "      <td><a href=\"https://www.themoviedb.org/movie/26466\" target=\"_blank\">TMDB</a></td>\n",
       "      <td><a href=\"https://movielens.org/movies/74228\" target=\"_blank\">MovieLens</a></td>\n",
       "      <td><a href=\"http://www.imdb.com/title/tt1187064/\" target=\"_blank\">IMDb</a></td>\n",
       "    </tr>\n",
       "  </tbody>\n",
       "</table>"
      ],
      "text/plain": [
       "<IPython.core.display.HTML object>"
      ]
     },
     "execution_count": 21,
     "metadata": {},
     "output_type": "execute_result"
    }
   ],
   "source": [
    "import requests\n",
    "import pandas as pd\n",
    "from IPython.display import HTML\n",
    "\n",
    "# TMDB API\n",
    "API_KEY = \"a3a909bb6bc322d2fda580d6a44db902\"  # replace with your TMDB key\n",
    "\n",
    "def get_tmdb_info(tmdb_id):\n",
    "    \"\"\"Fetch overview and TMDB link\"\"\"\n",
    "    if pd.isna(tmdb_id):\n",
    "        return \"No overview available\", \"#\"\n",
    "    url = f\"https://api.themoviedb.org/3/movie/{int(tmdb_id)}?api_key={API_KEY}&language=en-US\"\n",
    "    try:\n",
    "        response = requests.get(url).json()\n",
    "        overview = response.get(\"overview\", \"No overview available\")\n",
    "        link = f\"https://www.themoviedb.org/movie/{int(tmdb_id)}\"\n",
    "        return overview, link\n",
    "    except:\n",
    "        return \"No overview available\", \"#\"\n",
    "\n",
    "def make_clickable(link, text=\"Link\"):\n",
    "    return f'<a href=\"{link}\" target=\"_blank\">{text}</a>'\n",
    "\n",
    "def recommend_movies_full(title, n=5):\n",
    "    # Find movie\n",
    "    matches = merged_df[merged_df['title'].str.contains(title, case=False, na=False)]\n",
    "    if matches.empty:\n",
    "        print(\"Movie not found!\")\n",
    "        return HTML(\"<p>No recommendations available</p>\")\n",
    "    \n",
    "    idx = matches.index[0]\n",
    "    \n",
    "    # Similarity scores\n",
    "    sim_scores = list(enumerate(cosine_sim[idx]))\n",
    "    sim_scores = sorted(sim_scores, key=lambda x: x[1], reverse=True)[1:]\n",
    "    sim_scores = sim_scores[:min(50, len(sim_scores))]\n",
    "    movie_indices = [i[0] for i in sim_scores if i[0] < len(merged_df)]\n",
    "    \n",
    "    # Candidates\n",
    "    candidates = merged_df.iloc[movie_indices][[\"title\", \"genres\", \"avg_rating\", \"tmdbId\", \"imdbId\", \"movieId\"]].copy()\n",
    "    \n",
    "    # Add TMDB overview and link\n",
    "    candidates[[\"overview\", \"tmdb_link\"]] = candidates[\"tmdbId\"].apply(lambda x: pd.Series(get_tmdb_info(x)))\n",
    "    \n",
    "    # Add MovieLens and IMDb links\n",
    "    candidates[\"movielens_link\"] = candidates[\"movieId\"].apply(lambda x: f\"https://movielens.org/movies/{int(x)}\")\n",
    "    candidates[\"imdb_link\"]       = candidates[\"imdbId\"].apply(lambda x: f\"http://www.imdb.com/title/tt{int(x)}/\" if not pd.isna(x) else \"#\")\n",
    "    \n",
    "    # Convert links to clickable HTML\n",
    "    candidates[\"TMDB\"]       = candidates[\"tmdb_link\"].apply(lambda x: make_clickable(x, \"TMDB\"))\n",
    "    candidates[\"MovieLens\"]  = candidates[\"movielens_link\"].apply(lambda x: make_clickable(x, \"MovieLens\"))\n",
    "    candidates[\"IMDb\"]       = candidates[\"imdb_link\"].apply(lambda x: make_clickable(x, \"IMDb\"))\n",
    "    \n",
    "    # Sort by rating and take top n\n",
    "    candidates = candidates.sort_values(by=\"avg_rating\", ascending=False).head(n)\n",
    "    \n",
    "    # Select final columns\n",
    "    display_df = candidates[[\"title\", \"genres\", \"avg_rating\", \"overview\", \"TMDB\", \"MovieLens\", \"IMDb\"]]\n",
    "    \n",
    "    # Render clickable links in Jupyter\n",
    "    return HTML(display_df.to_html(escape=False))\n",
    "\n",
    "\n",
    "# -------------------------------\n",
    "# Run recommender with user input\n",
    "# -------------------------------\n",
    "movie_name = input(\"Search by movie title or genre: \")\n",
    "recommend_movies_full(movie_name, 5)\n"
   ]
  },
  {
   "cell_type": "code",
   "execution_count": null,
   "id": "62c8b100-988f-495d-a26f-77408d0ce444",
   "metadata": {},
   "outputs": [],
   "source": []
  }
 ],
 "metadata": {
  "kernelspec": {
   "display_name": "Python 3 (ipykernel)",
   "language": "python",
   "name": "python3"
  },
  "language_info": {
   "codemirror_mode": {
    "name": "ipython",
    "version": 3
   },
   "file_extension": ".py",
   "mimetype": "text/x-python",
   "name": "python",
   "nbconvert_exporter": "python",
   "pygments_lexer": "ipython3",
   "version": "3.12.7"
  }
 },
 "nbformat": 4,
 "nbformat_minor": 5
}
